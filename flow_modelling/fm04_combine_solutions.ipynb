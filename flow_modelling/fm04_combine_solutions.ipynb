{
 "cells": [
  {
   "cell_type": "markdown",
   "metadata": {},
   "source": [
    "# Flow modelling – Altering flows"
   ]
  },
  {
   "cell_type": "code",
   "execution_count": 477,
   "metadata": {
    "collapsed": true
   },
   "outputs": [],
   "source": [
    "import graph_tool as gt\n",
    "import graph_tool.draw\n",
    "import graph_tool.search\n",
    "import numpy as np\n",
    "import datetime\n",
    "import cairo\n",
    "\n",
    "from collections import deque"
   ]
  },
  {
   "cell_type": "code",
   "execution_count": 478,
   "metadata": {
    "scrolled": true
   },
   "outputs": [
    {
     "name": "stdout",
     "output_type": "stream",
     "text": [
      "Date: 2018-11-27\n"
     ]
    }
   ],
   "source": [
    "print(\"Date:\", datetime.datetime.now().date().isoformat())"
   ]
  },
  {
   "cell_type": "markdown",
   "metadata": {},
   "source": [
    "## Test data"
   ]
  },
  {
   "cell_type": "markdown",
   "metadata": {},
   "source": [
    "Let's create an test graph that models cucumber production, packaging and consumption."
   ]
  },
  {
   "cell_type": "code",
   "execution_count": 479,
   "metadata": {
    "collapsed": true
   },
   "outputs": [],
   "source": [
    "G = gt.Graph(directed=True)\n",
    "G.load(\"cucumba.gt\")"
   ]
  },
  {
   "cell_type": "markdown",
   "metadata": {},
   "source": [
    "## Combining solutions or solution-parts\n",
    "\n",
    "A **solution** is defined by\n",
    "1. amount of change\n",
    "2. affected material\n",
    "3. the edge on which the solution is applied\n",
    "\n",
    "**Solution-graph**: A subset of the graph/system containing only the edges that are affected by the solution and on which a solution has been already applied, thus the flows have been altered.\n",
    "\n",
    "**Solution-part**: A solution can have several parts in case the desired change in a material results in changes in other materials. For example reducing the milk production also reduces the plastic production.\n",
    "\n",
    "Once we computed the solution-parts for the milk and for the plastic, we need to integrate both into a single graph which then represents *the* complete solution. In a similar fashion, it should be possible to combine solutions that are part of a strategy.\n",
    "\n",
    "The straightforward approach is to sum up the mass changes of each solution graph. In which case:\n",
    "\n",
    "    for each edge:\n",
    "\n",
    "        final mass = original mass + solution 1 + ... + solution n\n",
    "        \n",
    "But this requires that solution_n is the signed amount of change in mass for a particular edge, not the amount after applying the solution."
   ]
  },
  {
   "cell_type": "code",
   "execution_count": 224,
   "metadata": {
    "scrolled": true
   },
   "outputs": [
    {
     "name": "stdout",
     "output_type": "stream",
     "text": [
      "0    30.001 + 0.0[mask 0] + 0.0[mask 0] + 0.0[mask 0] = 30.0\n",
      "1    64.99900000000001 + 0.0[mask 0] + -26.0[mask 1] + 0.0[mask 0] = 39.0\n",
      "2    5.0 + -0.3[mask 1] + 0.0[mask 0] + -0.6[mask 1] = 4.1\n",
      "3    30.0 + 0.0[mask 0] + 0.0[mask 0] + 0.0[mask 0] = 30.0\n",
      "4    65.0 + 0.0[mask 0] + -26.0[mask 1] + 0.0[mask 0] = 39.0\n",
      "5    20.0 + -1.2[mask 1] + 0.0[mask 0] + -0.6[mask 1] = 18.2\n",
      "6    16.0 + 0.0[mask 0] + 0.0[mask 0] + 0.0[mask 0] = 16.0\n",
      "7    4.0 + -0.24[mask 1] + 0.0[mask 0] + -2.41[mask 1] = 1.35\n",
      "8    5.0 + -0.3[mask 1] + 0.0[mask 0] + -0.6[mask 1] = 4.1\n",
      "9    75.0 + 0.0[mask 0] + -30.0[mask 1] + 0.0[mask 0] = 45.0\n",
      "10    3.0 + -0.18[mask 1] + 0.0[mask 0] + -0.36[mask 1] = 2.46\n",
      "11    2.0 + -0.12[mask 1] + 0.0[mask 0] + -0.24[mask 1] = 1.64\n",
      "12    20.0 + 0.0[mask 0] + -8.0[mask 1] + 0.0[mask 0] = 12.0\n",
      "13    1.0 + 0.0[mask 0] + 0.0[mask 0] + 0.0[mask 0] = 1.0\n",
      "14    1.0 + -0.06[mask 1] + 0.0[mask 0] + -0.24[mask 1] = 0.7\n"
     ]
    }
   ],
   "source": [
    "for i,e in enumerate(g_split.edges()):\n",
    "    formula = \"{eid}    {omass} + {s1}[mask {m1}] + {s2}[mask {m2}] + {s3}[mask {m3}] = {res}\".format(\n",
    "        eid=i, omass=eprop_mass[e],\n",
    "        s1=round(mass_sol1[e],2), s2=round(mass_sol2[e],2), \n",
    "        s3=round(mass_sol3[e],2), m1=edge_mask_1[e], m2=edge_mask_2[e], m3=edge_mask_3[e],\n",
    "        res=round(sum([eprop_mass[e], mass_sol1[e], mass_sol2[e], mass_sol3[e]]), 2)\n",
    "    )\n",
    "    print(formula)"
   ]
  },
  {
   "cell_type": "code",
   "execution_count": 225,
   "metadata": {},
   "outputs": [
    {
     "name": "stdout",
     "output_type": "stream",
     "text": [
      "\n",
      "0    Farm --> Packaging    change:  0.0t  cucumber\n",
      "\n",
      "1    Farm --> Packaging    change:  -26.0t  milk\n",
      "\n",
      "2    Packaging --> Consumption    change:  -0.9t  plastic\n",
      "\n",
      "3    Packaging --> Consumption    change:  0.0t  cucumber\n",
      "\n",
      "4    Packaging --> Consumption    change:  -26.0t  milk\n",
      "\n",
      "5    Oil rig --> Oil refinery    change:  -1.8t  crude oil\n",
      "\n",
      "6    Oil refinery --> Stock 1    change:  0.0t  petrol\n",
      "\n",
      "7    Oil refinery --> Production    change:  -2.65t  plastic\n",
      "\n",
      "8    Production --> Packaging    change:  -0.9t  plastic\n",
      "\n",
      "9    Consumption --> Waste    change:  -30.0t  human waste\n",
      "\n",
      "10    Consumption --> Burn    change:  -0.54t  plastic\n",
      "\n",
      "11    Consumption --> Recycling    change:  -0.36t  plastic\n",
      "\n",
      "12    Consumption --> Waste 2    change:  -8.0t  other waste\n",
      "\n",
      "13    Recycling --> Stock 2    change:  0.0t  waste\n",
      "\n",
      "14    Recycling --> Production    change:  -0.3t  plastic\n"
     ]
    }
   ],
   "source": [
    "for i,e in enumerate(g_split.edges()):\n",
    "    formula = \"{eid}    {src} --> {dst}    change:  {ch}t  {mat}\".format(\n",
    "        eid=i, src=g_split.vp.id[e.source()], dst=g_split.vp.id[e.target()], mat=eprop_material[e], \n",
    "        ch=round(sum([mass_sol1[e],mass_sol2[e],mass_sol3[e]]), 2)\n",
    "    )\n",
    "    print(\"\")\n",
    "    print(formula)"
   ]
  },
  {
   "cell_type": "code",
   "execution_count": null,
   "metadata": {
    "collapsed": true
   },
   "outputs": [],
   "source": []
  }
 ],
 "metadata": {
  "kernelspec": {
   "display_name": "Python 3",
   "language": "python",
   "name": "python3"
  },
  "language_info": {
   "codemirror_mode": {
    "name": "ipython",
    "version": 3
   },
   "file_extension": ".py",
   "mimetype": "text/x-python",
   "name": "python",
   "nbconvert_exporter": "python",
   "pygments_lexer": "ipython3",
   "version": "3.6.3"
  }
 },
 "nbformat": 4,
 "nbformat_minor": 2
}
